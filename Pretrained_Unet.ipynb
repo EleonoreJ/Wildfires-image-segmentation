{
 "cells": [
  {
   "cell_type": "code",
   "execution_count": 6,
   "metadata": {},
   "outputs": [
    {
     "name": "stdout",
     "output_type": "stream",
     "text": [
      "Segmentation Models: using `tf.keras` framework.\n"
     ]
    }
   ],
   "source": [
    "from model import *\n",
    "from data import *\n",
    "from metrics import *\n",
    "import tensorflow as tf\n",
    "from tensorflow.keras.callbacks import ModelCheckpoint \n",
    "import segmentation_models as sm\n",
    "\n",
    "%load_ext autoreload\n",
    "%autoreload 2"
   ]
  },
  {
   "cell_type": "code",
   "execution_count": 7,
   "metadata": {},
   "outputs": [],
   "source": [
    "BACKBONE = 'resnext50' #Pretrained backbone"
   ]
  },
  {
   "cell_type": "code",
   "execution_count": 8,
   "metadata": {},
   "outputs": [],
   "source": [
    "data_gen_args = dict(rotation_range=30,\n",
    "                    width_shift_range=0.2,\n",
    "                    height_shift_range=0.2,\n",
    "                    zoom_range=[0.8,1],\n",
    "                    brightness_range=[0.9,1.1],\n",
    "                    horizontal_flip=True,\n",
    "                    vertical_flip=True,\n",
    "                    fill_mode='nearest')"
   ]
  },
  {
   "cell_type": "code",
   "execution_count": 9,
   "metadata": {},
   "outputs": [
    {
     "name": "stdout",
     "output_type": "stream",
     "text": [
      "Found 22 images belonging to 1 classes.\n",
      "Found 5 images belonging to 1 classes.\n",
      "Found 22 images belonging to 1 classes.\n",
      "Found 5 images belonging to 1 classes.\n"
     ]
    }
   ],
   "source": [
    "image_generator, image_val_generator, mask_generator, mask_val_generator = trainGenerator(16,'dataset','images_satellite','labels_satellite',data_gen_args)\n",
    "train_generator = train(image_generator, mask_generator)\n",
    "val_generator = val(image_val_generator, mask_val_generator)"
   ]
  },
  {
   "cell_type": "code",
   "execution_count": 8,
   "metadata": {},
   "outputs": [],
   "source": [
    "model = sm.Unet(BACKBONE,encoder_weights='imagenet',input_shape=(256,256,3),encoder_freeze=True)\n",
    "model.compile(optimizer = Adam(lr = 5e-4), loss = [binary_focal_loss()], metrics = ['accuracy', mean_iou, mean_iou_neg, mean_iou_weighted, dice, dice_neg, dice_weighted])"
   ]
  },
  {
   "cell_type": "code",
   "execution_count": 9,
   "metadata": {},
   "outputs": [
    {
     "name": "stdout",
     "output_type": "stream",
     "text": [
      "WARNING:tensorflow:From <ipython-input-9-5fda03f50355>:2: Model.fit_generator (from tensorflow.python.keras.engine.training) is deprecated and will be removed in a future version.\n",
      "Instructions for updating:\n",
      "Please use Model.fit, which supports generators.\n",
      "Epoch 1/15\n",
      "400/400 [==============================] - ETA: 0s - loss: 0.0102 - accuracy: 0.7089 - mean_iou: 0.6000 - mean_iou_neg: 0.6996 - mean_iou_weighted: 0.6797 - dice: 0.7255 - dice_neg: 0.8025 - dice_weighted: 0.7871\n",
      "Epoch 00001: val_mean_iou_weighted improved from -inf to 0.27759, saving model to pretrained_unet_final.hdf5\n",
      "400/400 [==============================] - 239s 598ms/step - loss: 0.0102 - accuracy: 0.7089 - mean_iou: 0.6000 - mean_iou_neg: 0.6996 - mean_iou_weighted: 0.6797 - dice: 0.7255 - dice_neg: 0.8025 - dice_weighted: 0.7871 - val_loss: 0.0572 - val_accuracy: 0.6264 - val_mean_iou: 5.1571e-11 - val_mean_iou_neg: 0.3470 - val_mean_iou_weighted: 0.2776 - val_dice: 5.1571e-11 - val_dice_neg: 0.4005 - val_dice_weighted: 0.3204\n",
      "Epoch 2/15\n",
      "400/400 [==============================] - ETA: 0s - loss: 0.0064 - accuracy: 0.7374 - mean_iou: 0.7005 - mean_iou_neg: 0.7712 - mean_iou_weighted: 0.7571 - dice: 0.8116 - dice_neg: 0.8596 - dice_weighted: 0.8500\n",
      "Epoch 00002: val_mean_iou_weighted improved from 0.27759 to 0.32040, saving model to pretrained_unet_final.hdf5\n",
      "400/400 [==============================] - 231s 578ms/step - loss: 0.0064 - accuracy: 0.7374 - mean_iou: 0.7005 - mean_iou_neg: 0.7712 - mean_iou_weighted: 0.7571 - dice: 0.8116 - dice_neg: 0.8596 - dice_weighted: 0.8500 - val_loss: 0.0680 - val_accuracy: 0.6397 - val_mean_iou: 0.0632 - val_mean_iou_neg: 0.3847 - val_mean_iou_weighted: 0.3204 - val_dice: 0.1027 - val_dice_neg: 0.4561 - val_dice_weighted: 0.3854\n",
      "Epoch 3/15\n",
      "400/400 [==============================] - ETA: 0s - loss: 0.0052 - accuracy: 0.7469 - mean_iou: 0.7316 - mean_iou_neg: 0.7955 - mean_iou_weighted: 0.7827 - dice: 0.8336 - dice_neg: 0.8763 - dice_weighted: 0.8677\n",
      "Epoch 00003: val_mean_iou_weighted improved from 0.32040 to 0.61958, saving model to pretrained_unet_final.hdf5\n",
      "400/400 [==============================] - 231s 578ms/step - loss: 0.0052 - accuracy: 0.7469 - mean_iou: 0.7316 - mean_iou_neg: 0.7955 - mean_iou_weighted: 0.7827 - dice: 0.8336 - dice_neg: 0.8763 - dice_weighted: 0.8677 - val_loss: 0.0142 - val_accuracy: 0.6923 - val_mean_iou: 0.5225 - val_mean_iou_neg: 0.6438 - val_mean_iou_weighted: 0.6196 - val_dice: 0.6411 - val_dice_neg: 0.7498 - val_dice_weighted: 0.7281\n",
      "Epoch 4/15\n",
      "400/400 [==============================] - ETA: 0s - loss: 0.0047 - accuracy: 0.7472 - mean_iou: 0.7453 - mean_iou_neg: 0.8043 - mean_iou_weighted: 0.7925 - dice: 0.8451 - dice_neg: 0.8833 - dice_weighted: 0.8756\n",
      "Epoch 00004: val_mean_iou_weighted improved from 0.61958 to 0.62855, saving model to pretrained_unet_final.hdf5\n",
      "400/400 [==============================] - 233s 581ms/step - loss: 0.0047 - accuracy: 0.7472 - mean_iou: 0.7453 - mean_iou_neg: 0.8043 - mean_iou_weighted: 0.7925 - dice: 0.8451 - dice_neg: 0.8833 - dice_weighted: 0.8756 - val_loss: 0.0142 - val_accuracy: 0.7143 - val_mean_iou: 0.5123 - val_mean_iou_neg: 0.6576 - val_mean_iou_weighted: 0.6285 - val_dice: 0.6308 - val_dice_neg: 0.7576 - val_dice_weighted: 0.7323\n",
      "Epoch 5/15\n",
      "400/400 [==============================] - ETA: 0s - loss: 0.0044 - accuracy: 0.7537 - mean_iou: 0.7571 - mean_iou_neg: 0.8140 - mean_iou_weighted: 0.8026 - dice: 0.8528 - dice_neg: 0.8896 - dice_weighted: 0.8823\n",
      "Epoch 00005: val_mean_iou_weighted improved from 0.62855 to 0.64240, saving model to pretrained_unet_final.hdf5\n",
      "400/400 [==============================] - 236s 590ms/step - loss: 0.0044 - accuracy: 0.7537 - mean_iou: 0.7571 - mean_iou_neg: 0.8140 - mean_iou_weighted: 0.8026 - dice: 0.8528 - dice_neg: 0.8896 - dice_weighted: 0.8823 - val_loss: 0.0141 - val_accuracy: 0.6961 - val_mean_iou: 0.5361 - val_mean_iou_neg: 0.6690 - val_mean_iou_weighted: 0.6424 - val_dice: 0.6571 - val_dice_neg: 0.7704 - val_dice_weighted: 0.7477\n",
      "Epoch 6/15\n",
      "400/400 [==============================] - ETA: 0s - loss: 0.0040 - accuracy: 0.7515 - mean_iou: 0.7678 - mean_iou_neg: 0.8230 - mean_iou_weighted: 0.8120 - dice: 0.8604 - dice_neg: 0.8958 - dice_weighted: 0.8887\n",
      "Epoch 00006: val_mean_iou_weighted did not improve from 0.64240\n",
      "400/400 [==============================] - 231s 578ms/step - loss: 0.0040 - accuracy: 0.7515 - mean_iou: 0.7678 - mean_iou_neg: 0.8230 - mean_iou_weighted: 0.8120 - dice: 0.8604 - dice_neg: 0.8958 - dice_weighted: 0.8887 - val_loss: 0.0233 - val_accuracy: 0.7043 - val_mean_iou: 0.4841 - val_mean_iou_neg: 0.6405 - val_mean_iou_weighted: 0.6092 - val_dice: 0.6117 - val_dice_neg: 0.7454 - val_dice_weighted: 0.7186\n",
      "Epoch 7/15\n",
      "400/400 [==============================] - ETA: 0s - loss: 0.0042 - accuracy: 0.7617 - mean_iou: 0.7697 - mean_iou_neg: 0.8245 - mean_iou_weighted: 0.8135 - dice: 0.8623 - dice_neg: 0.8970 - dice_weighted: 0.8900\n",
      "Epoch 00007: val_mean_iou_weighted did not improve from 0.64240\n",
      "400/400 [==============================] - 229s 573ms/step - loss: 0.0042 - accuracy: 0.7617 - mean_iou: 0.7697 - mean_iou_neg: 0.8245 - mean_iou_weighted: 0.8135 - dice: 0.8623 - dice_neg: 0.8970 - dice_weighted: 0.8900 - val_loss: 0.0181 - val_accuracy: 0.6868 - val_mean_iou: 0.5254 - val_mean_iou_neg: 0.6583 - val_mean_iou_weighted: 0.6317 - val_dice: 0.6520 - val_dice_neg: 0.7639 - val_dice_weighted: 0.7415\n",
      "Epoch 8/15\n",
      "400/400 [==============================] - ETA: 0s - loss: 0.0040 - accuracy: 0.7628 - mean_iou: 0.7746 - mean_iou_neg: 0.8284 - mean_iou_weighted: 0.8176 - dice: 0.8647 - dice_neg: 0.8991 - dice_weighted: 0.8922\n",
      "Epoch 00008: val_mean_iou_weighted did not improve from 0.64240\n",
      "400/400 [==============================] - 230s 575ms/step - loss: 0.0040 - accuracy: 0.7628 - mean_iou: 0.7746 - mean_iou_neg: 0.8284 - mean_iou_weighted: 0.8176 - dice: 0.8647 - dice_neg: 0.8991 - dice_weighted: 0.8922 - val_loss: 0.0142 - val_accuracy: 0.7148 - val_mean_iou: 0.5184 - val_mean_iou_neg: 0.6676 - val_mean_iou_weighted: 0.6377 - val_dice: 0.6348 - val_dice_neg: 0.7642 - val_dice_weighted: 0.7383\n",
      "Epoch 9/15\n",
      "400/400 [==============================] - ETA: 0s - loss: 0.0036 - accuracy: 0.7565 - mean_iou: 0.7873 - mean_iou_neg: 0.8377 - mean_iou_weighted: 0.8276 - dice: 0.8744 - dice_neg: 0.9060 - dice_weighted: 0.8997\n",
      "Epoch 00009: val_mean_iou_weighted did not improve from 0.64240\n",
      "400/400 [==============================] - 231s 578ms/step - loss: 0.0036 - accuracy: 0.7565 - mean_iou: 0.7873 - mean_iou_neg: 0.8377 - mean_iou_weighted: 0.8276 - dice: 0.8744 - dice_neg: 0.9060 - dice_weighted: 0.8997 - val_loss: 0.0121 - val_accuracy: 0.6983 - val_mean_iou: 0.5268 - val_mean_iou_neg: 0.6690 - val_mean_iou_weighted: 0.6406 - val_dice: 0.6492 - val_dice_neg: 0.7696 - val_dice_weighted: 0.7455\n",
      "Epoch 10/15\n",
      "400/400 [==============================] - ETA: 0s - loss: 0.0034 - accuracy: 0.7618 - mean_iou: 0.7943 - mean_iou_neg: 0.8447 - mean_iou_weighted: 0.8345 - dice: 0.8783 - dice_neg: 0.9100 - dice_weighted: 0.9036\n",
      "Epoch 00010: val_mean_iou_weighted did not improve from 0.64240\n",
      "400/400 [==============================] - 230s 574ms/step - loss: 0.0034 - accuracy: 0.7618 - mean_iou: 0.7943 - mean_iou_neg: 0.8447 - mean_iou_weighted: 0.8345 - dice: 0.8783 - dice_neg: 0.9100 - dice_weighted: 0.9036 - val_loss: 0.0161 - val_accuracy: 0.7026 - val_mean_iou: 0.5134 - val_mean_iou_neg: 0.6615 - val_mean_iou_weighted: 0.6319 - val_dice: 0.6354 - val_dice_neg: 0.7615 - val_dice_weighted: 0.7363\n",
      "Epoch 11/15\n",
      "400/400 [==============================] - ETA: 0s - loss: 0.0030 - accuracy: 0.7608 - mean_iou: 0.7981 - mean_iou_neg: 0.8466 - mean_iou_weighted: 0.8369 - dice: 0.8808 - dice_neg: 0.9113 - dice_weighted: 0.9052\n",
      "Epoch 00011: val_mean_iou_weighted improved from 0.64240 to 0.64375, saving model to pretrained_unet_final.hdf5\n",
      "400/400 [==============================] - 232s 579ms/step - loss: 0.0030 - accuracy: 0.7608 - mean_iou: 0.7981 - mean_iou_neg: 0.8466 - mean_iou_weighted: 0.8369 - dice: 0.8808 - dice_neg: 0.9113 - dice_weighted: 0.9052 - val_loss: 0.0154 - val_accuracy: 0.7032 - val_mean_iou: 0.5344 - val_mean_iou_neg: 0.6711 - val_mean_iou_weighted: 0.6437 - val_dice: 0.6644 - val_dice_neg: 0.7754 - val_dice_weighted: 0.7532\n"
     ]
    },
    {
     "name": "stdout",
     "output_type": "stream",
     "text": [
      "Epoch 12/15\n",
      "400/400 [==============================] - ETA: 0s - loss: 0.0030 - accuracy: 0.7653 - mean_iou: 0.8058 - mean_iou_neg: 0.8528 - mean_iou_weighted: 0.8434 - dice: 0.8857 - dice_neg: 0.9152 - dice_weighted: 0.9093\n",
      "Epoch 00012: val_mean_iou_weighted did not improve from 0.64375\n",
      "400/400 [==============================] - 230s 575ms/step - loss: 0.0030 - accuracy: 0.7653 - mean_iou: 0.8058 - mean_iou_neg: 0.8528 - mean_iou_weighted: 0.8434 - dice: 0.8857 - dice_neg: 0.9152 - dice_weighted: 0.9093 - val_loss: 0.0129 - val_accuracy: 0.7041 - val_mean_iou: 0.5268 - val_mean_iou_neg: 0.6694 - val_mean_iou_weighted: 0.6409 - val_dice: 0.6504 - val_dice_neg: 0.7704 - val_dice_weighted: 0.7464\n",
      "Epoch 13/15\n",
      "400/400 [==============================] - ETA: 0s - loss: 0.0027 - accuracy: 0.7641 - mean_iou: 0.8089 - mean_iou_neg: 0.8550 - mean_iou_weighted: 0.8458 - dice: 0.8886 - dice_neg: 0.9171 - dice_weighted: 0.9114\n",
      "Epoch 00013: val_mean_iou_weighted improved from 0.64375 to 0.64716, saving model to pretrained_unet_final.hdf5\n",
      "400/400 [==============================] - 231s 577ms/step - loss: 0.0027 - accuracy: 0.7641 - mean_iou: 0.8089 - mean_iou_neg: 0.8550 - mean_iou_weighted: 0.8458 - dice: 0.8886 - dice_neg: 0.9171 - dice_weighted: 0.9114 - val_loss: 0.0118 - val_accuracy: 0.7127 - val_mean_iou: 0.5305 - val_mean_iou_neg: 0.6763 - val_mean_iou_weighted: 0.6472 - val_dice: 0.6507 - val_dice_neg: 0.7739 - val_dice_weighted: 0.7493\n",
      "Epoch 14/15\n",
      "400/400 [==============================] - ETA: 0s - loss: 0.0031 - accuracy: 0.7652 - mean_iou: 0.8071 - mean_iou_neg: 0.8534 - mean_iou_weighted: 0.8441 - dice: 0.8874 - dice_neg: 0.9160 - dice_weighted: 0.9103\n",
      "Epoch 00014: val_mean_iou_weighted did not improve from 0.64716\n",
      "400/400 [==============================] - 229s 572ms/step - loss: 0.0031 - accuracy: 0.7652 - mean_iou: 0.8071 - mean_iou_neg: 0.8534 - mean_iou_weighted: 0.8441 - dice: 0.8874 - dice_neg: 0.9160 - dice_weighted: 0.9103 - val_loss: 0.0153 - val_accuracy: 0.7135 - val_mean_iou: 0.5113 - val_mean_iou_neg: 0.6623 - val_mean_iou_weighted: 0.6321 - val_dice: 0.6419 - val_dice_neg: 0.7662 - val_dice_weighted: 0.7414\n",
      "Epoch 15/15\n",
      "400/400 [==============================] - ETA: 0s - loss: 0.0028 - accuracy: 0.7663 - mean_iou: 0.8134 - mean_iou_neg: 0.8590 - mean_iou_weighted: 0.8499 - dice: 0.8916 - dice_neg: 0.9196 - dice_weighted: 0.9140\n",
      "Epoch 00015: val_mean_iou_weighted did not improve from 0.64716\n",
      "400/400 [==============================] - 227s 568ms/step - loss: 0.0028 - accuracy: 0.7663 - mean_iou: 0.8134 - mean_iou_neg: 0.8590 - mean_iou_weighted: 0.8499 - dice: 0.8916 - dice_neg: 0.9196 - dice_weighted: 0.9140 - val_loss: 0.0168 - val_accuracy: 0.7128 - val_mean_iou: 0.4978 - val_mean_iou_neg: 0.6540 - val_mean_iou_weighted: 0.6228 - val_dice: 0.6224 - val_dice_neg: 0.7553 - val_dice_weighted: 0.7287\n"
     ]
    }
   ],
   "source": [
    "model_checkpoint = ModelCheckpoint('pretrained_unet_final.hdf5', monitor='val_mean_iou_weighted',verbose=1, save_best_only=True, mode = 'max')\n",
    "history1=model.fit_generator(train_generator,steps_per_epoch=400,epochs=15,validation_data=val_generator,validation_steps=50, callbacks=[model_checkpoint])"
   ]
  },
  {
   "cell_type": "code",
   "execution_count": 10,
   "metadata": {},
   "outputs": [],
   "source": [
    "save_obj(history1.history,'pretrained_history')"
   ]
  },
  {
   "cell_type": "code",
   "execution_count": 13,
   "metadata": {},
   "outputs": [
    {
     "name": "stdout",
     "output_type": "stream",
     "text": [
      "Epoch 1/5\n",
      "400/400 [==============================] - ETA: 0s - loss: 0.0020 - accuracy: 0.7681 - mean_iou: 0.8236 - mean_iou_neg: 0.8657 - mean_iou_weighted: 0.8573 - dice: 0.8996 - dice_neg: 0.9247 - dice_weighted: 0.9196\n",
      "Epoch 00001: val_mean_iou_weighted improved from -inf to 0.65087, saving model to pretrained_unet_final_resume.hdf5\n",
      "400/400 [==============================] - 256s 641ms/step - loss: 0.0020 - accuracy: 0.7681 - mean_iou: 0.8236 - mean_iou_neg: 0.8657 - mean_iou_weighted: 0.8573 - dice: 0.8996 - dice_neg: 0.9247 - dice_weighted: 0.9196 - val_loss: 0.0122 - val_accuracy: 0.7135 - val_mean_iou: 0.5374 - val_mean_iou_neg: 0.6792 - val_mean_iou_weighted: 0.6509 - val_dice: 0.6625 - val_dice_neg: 0.7798 - val_dice_weighted: 0.7564\n",
      "Epoch 2/5\n",
      "400/400 [==============================] - ETA: 0s - loss: 0.0019 - accuracy: 0.7667 - mean_iou: 0.8249 - mean_iou_neg: 0.8670 - mean_iou_weighted: 0.8585 - dice: 0.9000 - dice_neg: 0.9251 - dice_weighted: 0.9200\n",
      "Epoch 00002: val_mean_iou_weighted improved from 0.65087 to 0.65743, saving model to pretrained_unet_final_resume.hdf5\n",
      "400/400 [==============================] - 255s 638ms/step - loss: 0.0019 - accuracy: 0.7667 - mean_iou: 0.8249 - mean_iou_neg: 0.8670 - mean_iou_weighted: 0.8585 - dice: 0.9000 - dice_neg: 0.9251 - dice_weighted: 0.9200 - val_loss: 0.0103 - val_accuracy: 0.6971 - val_mean_iou: 0.5462 - val_mean_iou_neg: 0.6852 - val_mean_iou_weighted: 0.6574 - val_dice: 0.6737 - val_dice_neg: 0.7867 - val_dice_weighted: 0.7641\n",
      "Epoch 3/5\n",
      "400/400 [==============================] - ETA: 0s - loss: 0.0018 - accuracy: 0.7661 - mean_iou: 0.8276 - mean_iou_neg: 0.8693 - mean_iou_weighted: 0.8609 - dice: 0.9018 - dice_neg: 0.9267 - dice_weighted: 0.9217\n",
      "Epoch 00003: val_mean_iou_weighted improved from 0.65743 to 0.65817, saving model to pretrained_unet_final_resume.hdf5\n",
      "400/400 [==============================] - 255s 639ms/step - loss: 0.0018 - accuracy: 0.7661 - mean_iou: 0.8276 - mean_iou_neg: 0.8693 - mean_iou_weighted: 0.8609 - dice: 0.9018 - dice_neg: 0.9267 - dice_weighted: 0.9217 - val_loss: 0.0126 - val_accuracy: 0.7269 - val_mean_iou: 0.5450 - val_mean_iou_neg: 0.6865 - val_mean_iou_weighted: 0.6582 - val_dice: 0.6699 - val_dice_neg: 0.7859 - val_dice_weighted: 0.7627\n",
      "Epoch 4/5\n",
      "400/400 [==============================] - ETA: 0s - loss: 0.0018 - accuracy: 0.7623 - mean_iou: 0.8272 - mean_iou_neg: 0.8685 - mean_iou_weighted: 0.8602 - dice: 0.9007 - dice_neg: 0.9257 - dice_weighted: 0.9206\n",
      "Epoch 00004: val_mean_iou_weighted improved from 0.65817 to 0.65955, saving model to pretrained_unet_final_resume.hdf5\n",
      "400/400 [==============================] - 257s 642ms/step - loss: 0.0018 - accuracy: 0.7623 - mean_iou: 0.8272 - mean_iou_neg: 0.8685 - mean_iou_weighted: 0.8602 - dice: 0.9007 - dice_neg: 0.9257 - dice_weighted: 0.9206 - val_loss: 0.0108 - val_accuracy: 0.7270 - val_mean_iou: 0.5466 - val_mean_iou_neg: 0.6878 - val_mean_iou_weighted: 0.6596 - val_dice: 0.6713 - val_dice_neg: 0.7870 - val_dice_weighted: 0.7639\n",
      "Epoch 5/5\n",
      "400/400 [==============================] - ETA: 0s - loss: 0.0019 - accuracy: 0.7711 - mean_iou: 0.8292 - mean_iou_neg: 0.8696 - mean_iou_weighted: 0.8614 - dice: 0.9025 - dice_neg: 0.9266 - dice_weighted: 0.9217\n",
      "Epoch 00005: val_mean_iou_weighted did not improve from 0.65955\n",
      "400/400 [==============================] - 251s 628ms/step - loss: 0.0019 - accuracy: 0.7711 - mean_iou: 0.8292 - mean_iou_neg: 0.8696 - mean_iou_weighted: 0.8614 - dice: 0.9025 - dice_neg: 0.9266 - dice_weighted: 0.9217 - val_loss: 0.0128 - val_accuracy: 0.7283 - val_mean_iou: 0.5474 - val_mean_iou_neg: 0.6867 - val_mean_iou_weighted: 0.6588 - val_dice: 0.6745 - val_dice_neg: 0.7875 - val_dice_weighted: 0.7649\n"
     ]
    }
   ],
   "source": [
    "model_checkpoint = ModelCheckpoint('pretrained_unet_final_resume.hdf5', monitor='val_mean_iou_weighted',verbose=1, save_best_only=True, mode = 'max')\n",
    "\n",
    "for layer in model.layers:\n",
    "    if not isinstance(layer,tf.keras.layers.BatchNormalization):\n",
    "        layer.trainable = True\n",
    "model.compile(optimizer = Adam(lr = 1e-6), loss = [binary_focal_loss()], metrics = ['accuracy', mean_iou, mean_iou_neg, mean_iou_weighted, dice, dice_neg, dice_weighted])\n",
    "history2=model.fit_generator(train_generator,steps_per_epoch=400,epochs=5,validation_data=val_generator,validation_steps=50, callbacks=[model_checkpoint])"
   ]
  },
  {
   "cell_type": "code",
   "execution_count": 14,
   "metadata": {},
   "outputs": [],
   "source": [
    "save_obj(history2.history,'pretrained_resume_history')"
   ]
  },
  {
   "cell_type": "code",
   "execution_count": 5,
   "metadata": {},
   "outputs": [],
   "source": [
    "test_img, names = test('dataset/test_images')\n",
    "\n",
    "folder = './dataset/test_labels'\n",
    "num_img, size = test_img.shape[0], test_img.shape[1]            \n",
    "\n",
    "test_label = generate_labels(folder, names, num_img, size)"
   ]
  },
  {
   "cell_type": "code",
   "execution_count": 16,
   "metadata": {},
   "outputs": [
    {
     "name": "stdout",
     "output_type": "stream",
     "text": [
      "1/1 [==============================] - 0s 1ms/step - loss: 0.0717 - accuracy: 0.8370 - mean_iou: 0.1370 - mean_iou_neg: 0.4824 - mean_iou_weighted: 0.4133 - dice: 0.2291 - dice_neg: 0.5664 - dice_weighted: 0.4990\n",
      "Test score: 0.07167227566242218\n"
     ]
    }
   ],
   "source": [
    "model = load_model('pretrained_unet_final_resume.hdf5', compile=False)\n",
    "model.compile(optimizer = Adam(lr = 1e-4), loss = [binary_focal_loss()], metrics = ['accuracy', mean_iou, mean_iou_neg, mean_iou_weighted, dice, dice_neg, dice_weighted])\n",
    "\n",
    "score, accuracy, mean_iou_, mean_iou_neg_, mean_iou_weighted_, dice_, dice_neg_, dice_weighted_ = model.evaluate(test_img, test_label)\n",
    "print('Test score:', score)"
   ]
  },
  {
   "cell_type": "code",
   "execution_count": 4,
   "metadata": {},
   "outputs": [
    {
     "name": "stdout",
     "output_type": "stream",
     "text": [
      "Found 4 images belonging to 1 classes.\n",
      "Found 4 images belonging to 1 classes.\n",
      "20/20 [==============================] - 2s 96ms/step - loss: 0.0684 - accuracy: 0.8460 - mean_iou: 0.1347 - mean_iou_neg: 0.4861 - mean_iou_weighted: 0.4158 - dice: 0.2178 - dice_neg: 0.5636 - dice_weighted: 0.4945\n"
     ]
    }
   ],
   "source": [
    "data_gen_args = dict(rotation_range=30,\n",
    "                    horizontal_flip=True,\n",
    "                    vertical_flip=True)\n",
    "\n",
    "\n",
    "test_gen = trainGenerator_simple(4,'dataset','test_images','test_labels', aug_dict = data_gen_args, image_color_mode = \"rgb\",\n",
    "                    mask_color_mode = \"grayscale\",image_save_prefix  = \"image\",mask_save_prefix  = \"mask\",\n",
    "                    flag_multi_class = False,num_class = 1,save_to_dir = None,\n",
    "                   target_size = (256,256),seed = 1)\n",
    "\n",
    "model = load_model('pretrained_unet_final.hdf5',  compile = False, custom_objects={'binary_focal_loss_fixed':binary_focal_loss()})\n",
    "model.compile(optimizer = Adam(lr = 1e-4), loss = [binary_focal_loss()], metrics = ['accuracy', mean_iou, mean_iou_neg, mean_iou_weighted, dice, dice_neg, dice_weighted])\n",
    "\n",
    "score, accuracy,  iou, iou_neg, iou_weighted, dice_coeff, dice_coeff_neg, dice_coeff_weighted= model.evaluate(test_gen,steps=20)"
   ]
  }
 ],
 "metadata": {
  "kernelspec": {
   "display_name": "Python 3",
   "language": "python",
   "name": "python3"
  },
  "language_info": {
   "codemirror_mode": {
    "name": "ipython",
    "version": 3
   },
   "file_extension": ".py",
   "mimetype": "text/x-python",
   "name": "python",
   "nbconvert_exporter": "python",
   "pygments_lexer": "ipython3",
   "version": "3.7.6"
  },
  "metadata": {
   "deletable": true,
   "editable": true,
   "trusted": true
  }
 },
 "nbformat": 4,
 "nbformat_minor": 2
}
