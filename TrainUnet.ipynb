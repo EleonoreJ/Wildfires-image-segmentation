{
 "cells": [
  {
   "cell_type": "code",
   "execution_count": 5,
   "metadata": {},
   "outputs": [
    {
     "name": "stdout",
     "output_type": "stream",
     "text": [
      "The autoreload extension is already loaded. To reload it, use:\n",
      "  %reload_ext autoreload\n"
     ]
    }
   ],
   "source": [
    "from model import *\n",
    "from data import *\n",
    "from metrics import *\n",
    "import tensorflow as tf\n",
    "from tensorflow.keras.callbacks import ModelCheckpoint \n",
    "from tensorflow.keras import backend as K\n",
    "%load_ext autoreload\n",
    "%autoreload 2"
   ]
  },
  {
   "cell_type": "code",
   "execution_count": 2,
   "metadata": {},
   "outputs": [
    {
     "name": "stdout",
     "output_type": "stream",
     "text": [
      "Found 22 images belonging to 1 classes.\n",
      "Found 5 images belonging to 1 classes.\n",
      "Found 22 images belonging to 1 classes.\n",
      "Found 5 images belonging to 1 classes.\n"
     ]
    }
   ],
   "source": [
    "data_gen_args = dict(rotation_range=30,\n",
    "                    width_shift_range=0.2,\n",
    "                    height_shift_range=0.2,\n",
    "                    zoom_range=[0.8,1],\n",
    "                    brightness_range=[0.9,1.1],\n",
    "                    horizontal_flip=True,\n",
    "                    vertical_flip=True,\n",
    "                    fill_mode='nearest')\n",
    "image_generator, image_val_generator, mask_generator, mask_val_generator = trainGenerator(16,'dataset','images_satellite','labels_satellite',data_gen_args)        \n",
    "train_generator = train(image_generator, mask_generator)\n",
    "val_generator = val(image_val_generator, mask_val_generator)"
   ]
  },
  {
   "cell_type": "code",
   "execution_count": 6,
   "metadata": {},
   "outputs": [],
   "source": [
    "model = satellite_unet()\n",
    "model.compile(optimizer = Adam(lr = 1e-4), loss = [binary_focal_loss()], metrics = ['accuracy', mean_iou, mean_iou_neg, mean_iou_weighted, dice, dice_neg, dice_weighted])"
   ]
  },
  {
   "cell_type": "code",
   "execution_count": 7,
   "metadata": {
    "scrolled": true
   },
   "outputs": [
    {
     "name": "stdout",
     "output_type": "stream",
     "text": [
      "WARNING:tensorflow:From <ipython-input-7-bd0c7902ce2f>:2: Model.fit_generator (from tensorflow.python.keras.engine.training) is deprecated and will be removed in a future version.\n",
      "Instructions for updating:\n",
      "Please use Model.fit, which supports generators.\n",
      "Epoch 1/15\n",
      "400/400 [==============================] - ETA: 0s - loss: 0.0167 - accuracy: 0.6732 - mean_iou: 0.4972 - mean_iou_neg: 0.6241 - mean_iou_weighted: 0.5987 - dice: 0.6289 - dice_neg: 0.7383 - dice_weighted: 0.7164\n",
      "Epoch 00001: val_mean_iou_weighted improved from -inf to 0.59139, saving model to sat_unet_final.hdf5\n",
      "400/400 [==============================] - 310s 775ms/step - loss: 0.0167 - accuracy: 0.6732 - mean_iou: 0.4972 - mean_iou_neg: 0.6241 - mean_iou_weighted: 0.5987 - dice: 0.6289 - dice_neg: 0.7383 - dice_weighted: 0.7164 - val_loss: 0.0162 - val_accuracy: 0.6846 - val_mean_iou: 0.4688 - val_mean_iou_neg: 0.6220 - val_mean_iou_weighted: 0.5914 - val_dice: 0.5961 - val_dice_neg: 0.7317 - val_dice_weighted: 0.7046\n",
      "Epoch 2/15\n",
      "400/400 [==============================] - ETA: 0s - loss: 0.0098 - accuracy: 0.7117 - mean_iou: 0.5979 - mean_iou_neg: 0.6999 - mean_iou_weighted: 0.6795 - dice: 0.7209 - dice_neg: 0.8012 - dice_weighted: 0.7852\n",
      "Epoch 00002: val_mean_iou_weighted did not improve from 0.59139\n",
      "400/400 [==============================] - 300s 750ms/step - loss: 0.0098 - accuracy: 0.7117 - mean_iou: 0.5979 - mean_iou_neg: 0.6999 - mean_iou_weighted: 0.6795 - dice: 0.7209 - dice_neg: 0.8012 - dice_weighted: 0.7852 - val_loss: 0.0188 - val_accuracy: 0.6956 - val_mean_iou: 0.4270 - val_mean_iou_neg: 0.6069 - val_mean_iou_weighted: 0.5710 - val_dice: 0.5421 - val_dice_neg: 0.7063 - val_dice_weighted: 0.6734\n",
      "Epoch 3/15\n",
      "400/400 [==============================] - ETA: 0s - loss: 0.0081 - accuracy: 0.7252 - mean_iou: 0.6435 - mean_iou_neg: 0.7311 - mean_iou_weighted: 0.7136 - dice: 0.7619 - dice_neg: 0.8270 - dice_weighted: 0.8140\n",
      "Epoch 00003: val_mean_iou_weighted improved from 0.59139 to 0.62872, saving model to sat_unet_final.hdf5\n",
      "400/400 [==============================] - 301s 753ms/step - loss: 0.0081 - accuracy: 0.7252 - mean_iou: 0.6435 - mean_iou_neg: 0.7311 - mean_iou_weighted: 0.7136 - dice: 0.7619 - dice_neg: 0.8270 - dice_weighted: 0.8140 - val_loss: 0.0123 - val_accuracy: 0.7204 - val_mean_iou: 0.5082 - val_mean_iou_neg: 0.6588 - val_mean_iou_weighted: 0.6287 - val_dice: 0.6276 - val_dice_neg: 0.7584 - val_dice_weighted: 0.7323\n",
      "Epoch 4/15\n",
      "400/400 [==============================] - ETA: 0s - loss: 0.0073 - accuracy: 0.7285 - mean_iou: 0.6652 - mean_iou_neg: 0.7461 - mean_iou_weighted: 0.7300 - dice: 0.7809 - dice_neg: 0.8395 - dice_weighted: 0.8278\n",
      "Epoch 00004: val_mean_iou_weighted improved from 0.62872 to 0.63543, saving model to sat_unet_final.hdf5\n",
      "400/400 [==============================] - 302s 754ms/step - loss: 0.0073 - accuracy: 0.7285 - mean_iou: 0.6652 - mean_iou_neg: 0.7461 - mean_iou_weighted: 0.7300 - dice: 0.7809 - dice_neg: 0.8395 - dice_weighted: 0.8278 - val_loss: 0.0134 - val_accuracy: 0.7128 - val_mean_iou: 0.5193 - val_mean_iou_neg: 0.6645 - val_mean_iou_weighted: 0.6354 - val_dice: 0.6359 - val_dice_neg: 0.7630 - val_dice_weighted: 0.7376\n",
      "Epoch 5/15\n",
      "400/400 [==============================] - ETA: 0s - loss: 0.0062 - accuracy: 0.7387 - mean_iou: 0.6907 - mean_iou_neg: 0.7648 - mean_iou_weighted: 0.7500 - dice: 0.8005 - dice_neg: 0.8531 - dice_weighted: 0.8426\n",
      "Epoch 00005: val_mean_iou_weighted improved from 0.63543 to 0.65018, saving model to sat_unet_final.hdf5\n",
      "400/400 [==============================] - 305s 763ms/step - loss: 0.0062 - accuracy: 0.7387 - mean_iou: 0.6907 - mean_iou_neg: 0.7648 - mean_iou_weighted: 0.7500 - dice: 0.8005 - dice_neg: 0.8531 - dice_weighted: 0.8426 - val_loss: 0.0123 - val_accuracy: 0.6912 - val_mean_iou: 0.5495 - val_mean_iou_neg: 0.6753 - val_mean_iou_weighted: 0.6502 - val_dice: 0.6663 - val_dice_neg: 0.7752 - val_dice_weighted: 0.7534\n",
      "Epoch 6/15\n",
      "400/400 [==============================] - ETA: 0s - loss: 0.0058 - accuracy: 0.7378 - mean_iou: 0.7014 - mean_iou_neg: 0.7743 - mean_iou_weighted: 0.7597 - dice: 0.8082 - dice_neg: 0.8597 - dice_weighted: 0.8494\n",
      "Epoch 00006: val_mean_iou_weighted did not improve from 0.65018\n",
      "400/400 [==============================] - 306s 764ms/step - loss: 0.0058 - accuracy: 0.7378 - mean_iou: 0.7014 - mean_iou_neg: 0.7743 - mean_iou_weighted: 0.7597 - dice: 0.8082 - dice_neg: 0.8597 - dice_weighted: 0.8494 - val_loss: 0.0303 - val_accuracy: 0.6643 - val_mean_iou: 0.4165 - val_mean_iou_neg: 0.5783 - val_mean_iou_weighted: 0.5459 - val_dice: 0.5573 - val_dice_neg: 0.6992 - val_dice_weighted: 0.6708\n",
      "Epoch 7/15\n",
      "400/400 [==============================] - ETA: 0s - loss: 0.0056 - accuracy: 0.7494 - mean_iou: 0.7117 - mean_iou_neg: 0.7815 - mean_iou_weighted: 0.7676 - dice: 0.8167 - dice_neg: 0.8653 - dice_weighted: 0.8556\n",
      "Epoch 00007: val_mean_iou_weighted did not improve from 0.65018\n",
      "400/400 [==============================] - 308s 770ms/step - loss: 0.0056 - accuracy: 0.7494 - mean_iou: 0.7117 - mean_iou_neg: 0.7815 - mean_iou_weighted: 0.7676 - dice: 0.8167 - dice_neg: 0.8653 - dice_weighted: 0.8556 - val_loss: 0.0141 - val_accuracy: 0.6543 - val_mean_iou: 0.5213 - val_mean_iou_neg: 0.6295 - val_mean_iou_weighted: 0.6078 - val_dice: 0.6602 - val_dice_neg: 0.7490 - val_dice_weighted: 0.7313\n",
      "Epoch 8/15\n",
      "400/400 [==============================] - ETA: 0s - loss: 0.0055 - accuracy: 0.7509 - mean_iou: 0.7158 - mean_iou_neg: 0.7854 - mean_iou_weighted: 0.7715 - dice: 0.8192 - dice_neg: 0.8678 - dice_weighted: 0.8581\n",
      "Epoch 00008: val_mean_iou_weighted did not improve from 0.65018\n",
      "400/400 [==============================] - 308s 769ms/step - loss: 0.0055 - accuracy: 0.7509 - mean_iou: 0.7158 - mean_iou_neg: 0.7854 - mean_iou_weighted: 0.7715 - dice: 0.8192 - dice_neg: 0.8678 - dice_weighted: 0.8581 - val_loss: 0.0189 - val_accuracy: 0.6714 - val_mean_iou: 0.4616 - val_mean_iou_neg: 0.5882 - val_mean_iou_weighted: 0.5628 - val_dice: 0.5902 - val_dice_neg: 0.7016 - val_dice_weighted: 0.6793\n",
      "Epoch 9/15\n",
      "400/400 [==============================] - ETA: 0s - loss: 0.0049 - accuracy: 0.7463 - mean_iou: 0.7292 - mean_iou_neg: 0.7958 - mean_iou_weighted: 0.7825 - dice: 0.8290 - dice_neg: 0.8752 - dice_weighted: 0.8660\n",
      "Epoch 00009: val_mean_iou_weighted did not improve from 0.65018\n",
      "400/400 [==============================] - 306s 766ms/step - loss: 0.0049 - accuracy: 0.7463 - mean_iou: 0.7292 - mean_iou_neg: 0.7958 - mean_iou_weighted: 0.7825 - dice: 0.8290 - dice_neg: 0.8752 - dice_weighted: 0.8660 - val_loss: 0.0140 - val_accuracy: 0.6704 - val_mean_iou: 0.5229 - val_mean_iou_neg: 0.6408 - val_mean_iou_weighted: 0.6172 - val_dice: 0.6546 - val_dice_neg: 0.7542 - val_dice_weighted: 0.7343\n",
      "Epoch 10/15\n",
      "400/400 [==============================] - ETA: 0s - loss: 0.0043 - accuracy: 0.7513 - mean_iou: 0.7380 - mean_iou_neg: 0.8034 - mean_iou_weighted: 0.7903 - dice: 0.8354 - dice_neg: 0.8805 - dice_weighted: 0.8714\n",
      "Epoch 00010: val_mean_iou_weighted did not improve from 0.65018\n",
      "400/400 [==============================] - 307s 767ms/step - loss: 0.0043 - accuracy: 0.7513 - mean_iou: 0.7380 - mean_iou_neg: 0.8034 - mean_iou_weighted: 0.7903 - dice: 0.8354 - dice_neg: 0.8805 - dice_weighted: 0.8714 - val_loss: 0.0158 - val_accuracy: 0.6976 - val_mean_iou: 0.5121 - val_mean_iou_neg: 0.6568 - val_mean_iou_weighted: 0.6279 - val_dice: 0.6438 - val_dice_neg: 0.7634 - val_dice_weighted: 0.7395\n",
      "Epoch 11/15\n",
      "400/400 [==============================] - ETA: 0s - loss: 0.0045 - accuracy: 0.7494 - mean_iou: 0.7362 - mean_iou_neg: 0.8013 - mean_iou_weighted: 0.7882 - dice: 0.8347 - dice_neg: 0.8793 - dice_weighted: 0.8704\n",
      "Epoch 00011: val_mean_iou_weighted improved from 0.65018 to 0.65115, saving model to sat_unet_final.hdf5\n",
      "400/400 [==============================] - 305s 762ms/step - loss: 0.0045 - accuracy: 0.7494 - mean_iou: 0.7362 - mean_iou_neg: 0.8013 - mean_iou_weighted: 0.7882 - dice: 0.8347 - dice_neg: 0.8793 - dice_weighted: 0.8704 - val_loss: 0.0135 - val_accuracy: 0.7006 - val_mean_iou: 0.5445 - val_mean_iou_neg: 0.6778 - val_mean_iou_weighted: 0.6512 - val_dice: 0.6693 - val_dice_neg: 0.7793 - val_dice_weighted: 0.7573\n"
     ]
    },
    {
     "name": "stdout",
     "output_type": "stream",
     "text": [
      "Epoch 12/15\n",
      "400/400 [==============================] - ETA: 0s - loss: 0.0044 - accuracy: 0.7531 - mean_iou: 0.7431 - mean_iou_neg: 0.8064 - mean_iou_weighted: 0.7937 - dice: 0.8401 - dice_neg: 0.8830 - dice_weighted: 0.8744\n",
      "Epoch 00012: val_mean_iou_weighted did not improve from 0.65115\n",
      "400/400 [==============================] - 304s 761ms/step - loss: 0.0044 - accuracy: 0.7531 - mean_iou: 0.7431 - mean_iou_neg: 0.8064 - mean_iou_weighted: 0.7937 - dice: 0.8401 - dice_neg: 0.8830 - dice_weighted: 0.8744 - val_loss: 0.0170 - val_accuracy: 0.6588 - val_mean_iou: 0.5259 - val_mean_iou_neg: 0.6298 - val_mean_iou_weighted: 0.6090 - val_dice: 0.6568 - val_dice_neg: 0.7443 - val_dice_weighted: 0.7268\n",
      "Epoch 13/15\n",
      "400/400 [==============================] - ETA: 0s - loss: 0.0043 - accuracy: 0.7524 - mean_iou: 0.7440 - mean_iou_neg: 0.8071 - mean_iou_weighted: 0.7944 - dice: 0.8402 - dice_neg: 0.8832 - dice_weighted: 0.8746\n",
      "Epoch 00013: val_mean_iou_weighted did not improve from 0.65115\n",
      "400/400 [==============================] - 303s 759ms/step - loss: 0.0043 - accuracy: 0.7524 - mean_iou: 0.7440 - mean_iou_neg: 0.8071 - mean_iou_weighted: 0.7944 - dice: 0.8402 - dice_neg: 0.8832 - dice_weighted: 0.8746 - val_loss: 0.0151 - val_accuracy: 0.7058 - val_mean_iou: 0.4825 - val_mean_iou_neg: 0.6438 - val_mean_iou_weighted: 0.6116 - val_dice: 0.6032 - val_dice_neg: 0.7447 - val_dice_weighted: 0.7164\n",
      "Epoch 14/15\n",
      "400/400 [==============================] - ETA: 0s - loss: 0.0038 - accuracy: 0.7580 - mean_iou: 0.7640 - mean_iou_neg: 0.8214 - mean_iou_weighted: 0.8099 - dice: 0.8560 - dice_neg: 0.8938 - dice_weighted: 0.8863\n",
      "Epoch 00014: val_mean_iou_weighted did not improve from 0.65115\n",
      "400/400 [==============================] - 304s 760ms/step - loss: 0.0038 - accuracy: 0.7580 - mean_iou: 0.7640 - mean_iou_neg: 0.8214 - mean_iou_weighted: 0.8099 - dice: 0.8560 - dice_neg: 0.8938 - dice_weighted: 0.8863 - val_loss: 0.0156 - val_accuracy: 0.6904 - val_mean_iou: 0.5513 - val_mean_iou_neg: 0.6688 - val_mean_iou_weighted: 0.6453 - val_dice: 0.6792 - val_dice_neg: 0.7774 - val_dice_weighted: 0.7577\n",
      "Epoch 15/15\n",
      "400/400 [==============================] - ETA: 0s - loss: 0.0034 - accuracy: 0.7595 - mean_iou: 0.7719 - mean_iou_neg: 0.8285 - mean_iou_weighted: 0.8172 - dice: 0.8614 - dice_neg: 0.8984 - dice_weighted: 0.8910\n",
      "Epoch 00015: val_mean_iou_weighted did not improve from 0.65115\n",
      "400/400 [==============================] - 304s 761ms/step - loss: 0.0034 - accuracy: 0.7595 - mean_iou: 0.7719 - mean_iou_neg: 0.8285 - mean_iou_weighted: 0.8172 - dice: 0.8614 - dice_neg: 0.8984 - dice_weighted: 0.8910 - val_loss: 0.0173 - val_accuracy: 0.7050 - val_mean_iou: 0.4485 - val_mean_iou_neg: 0.6218 - val_mean_iou_weighted: 0.5871 - val_dice: 0.5806 - val_dice_neg: 0.7286 - val_dice_weighted: 0.6990\n"
     ]
    }
   ],
   "source": [
    "model_checkpoint = ModelCheckpoint('sat_unet_final.hdf5', monitor='val_mean_iou_weighted',verbose=1, save_best_only=True, mode = 'max')\n",
    "history=model.fit_generator(train_generator,steps_per_epoch=400,epochs=15,validation_data=val_generator,validation_steps=50, callbacks=[model_checkpoint])"
   ]
  },
  {
   "cell_type": "code",
   "execution_count": 9,
   "metadata": {},
   "outputs": [],
   "source": [
    "save_obj(history.history,'satellite_history')"
   ]
  },
  {
   "cell_type": "code",
   "execution_count": 9,
   "metadata": {},
   "outputs": [],
   "source": [
    "test_img, names = test('dataset/test_images')\n",
    "\n",
    "folder = './dataset/test_labels'\n",
    "num_img, size = test_img.shape[0], test_img.shape[1]            \n",
    "\n",
    "test_label = generate_labels(folder, names, num_img, size)"
   ]
  },
  {
   "cell_type": "code",
   "execution_count": 9,
   "metadata": {},
   "outputs": [
    {
     "name": "stdout",
     "output_type": "stream",
     "text": [
      "1/1 [==============================] - 0s 4ms/step - loss: 0.0170 - accuracy: 0.8709 - mean_iou: 0.4002 - mean_iou_neg: 0.6148 - mean_iou_weighted: 0.5719 - dice: 0.5230 - dice_neg: 0.7128 - dice_weighted: 0.6749\n"
     ]
    }
   ],
   "source": [
    "model_load = load_model('sat_unet_final.hdf5', compile = False, custom_objects={'binary_focal_loss_fixed':binary_focal_loss()})\n",
    "model_load.compile(optimizer = Adam(lr = 1e-4), loss = [binary_focal_loss()], metrics = ['accuracy', mean_iou, mean_iou_neg, mean_iou_weighted, dice, dice_neg, dice_weighted])\n",
    "\n",
    "score, accuracy,  iou, iou_neg, iou_weighted, dice_coeff, dice_coeff_neg, dice_coeff_weighted= model_load.evaluate(test_img, test_label)"
   ]
  },
  {
   "cell_type": "code",
   "execution_count": 125,
   "metadata": {},
   "outputs": [],
   "source": [
    "data_gen_args = dict(rotation_range=30,\n",
    "                    horizontal_flip=True,\n",
    "                    vertical_flip=True)\n",
    "\n",
    "\n",
    "test_gen = trainGenerator_simple(4,'dataset','test_images','test_labels', aug_dict = data_gen_args, image_color_mode = \"rgb\",\n",
    "                    mask_color_mode = \"grayscale\",image_save_prefix  = \"image\",mask_save_prefix  = \"mask\",\n",
    "                    flag_multi_class = False,num_class = 1,save_to_dir = None,\n",
    "                   target_size = (256,256),seed = 1)"
   ]
  },
  {
   "cell_type": "code",
   "execution_count": 126,
   "metadata": {},
   "outputs": [
    {
     "name": "stdout",
     "output_type": "stream",
     "text": [
      "Found 4 images belonging to 1 classes.\n",
      "Found 4 images belonging to 1 classes.\n",
      "20/20 [==============================] - 2s 96ms/step - loss: 0.0287 - accuracy: 0.8596 - mean_iou: 0.3401 - mean_iou_neg: 0.5864 - mean_iou_weighted: 0.5372 - dice: 0.4741 - dice_neg: 0.6903 - dice_weighted: 0.6471\n"
     ]
    }
   ],
   "source": [
    "model = load_model('sat_unet_final.hdf5',  compile = False, custom_objects={'binary_focal_loss_fixed':binary_focal_loss()})\n",
    "model.compile(optimizer = Adam(lr = 1e-4), loss = [binary_focal_loss()], metrics = ['accuracy', mean_iou, mean_iou_neg, mean_iou_weighted, dice, dice_neg, dice_weighted])\n",
    "\n",
    "score, accuracy,  iou, iou_neg, iou_weighted, dice_coeff, dice_coeff_neg, dice_coeff_weighted= model.evaluate(test_gen,steps=20)"
   ]
  }
 ],
 "metadata": {
  "kernelspec": {
   "display_name": "Python 3",
   "language": "python",
   "name": "python3"
  },
  "language_info": {
   "codemirror_mode": {
    "name": "ipython",
    "version": 3
   },
   "file_extension": ".py",
   "mimetype": "text/x-python",
   "name": "python",
   "nbconvert_exporter": "python",
   "pygments_lexer": "ipython3",
   "version": "3.7.6"
  },
  "metadata": {
   "deletable": true,
   "editable": true,
   "trusted": true
  }
 },
 "nbformat": 4,
 "nbformat_minor": 2
}
