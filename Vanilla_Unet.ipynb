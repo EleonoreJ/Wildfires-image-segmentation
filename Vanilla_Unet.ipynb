{
 "cells": [
  {
   "cell_type": "code",
   "execution_count": 3,
   "metadata": {},
   "outputs": [],
   "source": [
    "from model import *\n",
    "from data import *\n",
    "from metrics import *\n",
    "import tensorflow as tf\n",
    "from tensorflow.keras.backend import int_shape\n",
    "from tensorflow.keras.callbacks import ModelCheckpoint \n",
    "from tensorflow.keras.models import Model\n",
    "\n",
    "from tensorflow.keras import layers \n",
    "from tensorflow.keras.layers import (BatchNormalization, Conv2D, Conv2DTranspose, MaxPooling2D, Dropout, SpatialDropout2D, \n",
    "                                     UpSampling2D, Input, concatenate, multiply, add, Activation, Cropping2D)\n",
    "%load_ext autoreload\n",
    "%autoreload 2"
   ]
  },
  {
   "cell_type": "code",
   "execution_count": 4,
   "metadata": {},
   "outputs": [
    {
     "name": "stdout",
     "output_type": "stream",
     "text": [
      "Found 22 images belonging to 1 classes.\n",
      "Found 5 images belonging to 1 classes.\n",
      "Found 22 images belonging to 1 classes.\n",
      "Found 5 images belonging to 1 classes.\n"
     ]
    }
   ],
   "source": [
    "data_gen_args = dict(rotation_range=30,\n",
    "                    width_shift_range=0.2,\n",
    "                    height_shift_range=0.2,\n",
    "                    zoom_range=[0.8,1],\n",
    "                    brightness_range=[0.9,1.1],\n",
    "                    horizontal_flip=True,\n",
    "                    vertical_flip=True,\n",
    "                    fill_mode='nearest')\n",
    "\n",
    "image_generator, image_val_generator, mask_generator, mask_val_generator = trainGenerator(16,'dataset','images_satellite','labels_satellite',data_gen_args)\n",
    "        \n",
    "train_generator = train(image_generator, mask_generator)\n",
    "val_generator = val(image_val_generator, mask_val_generator)"
   ]
  },
  {
   "cell_type": "markdown",
   "metadata": {},
   "source": [
    "Train form data in dataset using data augmentation"
   ]
  },
  {
   "cell_type": "code",
   "execution_count": 5,
   "metadata": {},
   "outputs": [
    {
     "name": "stdout",
     "output_type": "stream",
     "text": [
      "(None, 32, 32, 256)\n",
      "(None, 32, 32, 512)\n",
      "(None, 256, 256, 1)\n",
      "WARNING:tensorflow:From <ipython-input-5-c963ee9bc4c6>:15: Model.fit_generator (from tensorflow.python.keras.engine.training) is deprecated and will be removed in a future version.\n",
      "Instructions for updating:\n",
      "Please use Model.fit, which supports generators.\n",
      "Epoch 1/15\n",
      "400/400 [==============================] - ETA: 0s - loss: 0.0287 - accuracy: 0.6266 - mean_iou: 0.3012 - mean_iou_neg: 0.4925 - mean_iou_weighted: 0.4543 - dice: 0.3918 - dice_neg: 0.5914 - dice_weighted: 0.5515\n",
      "Epoch 00001: val_mean_iou_weighted improved from -inf to 0.61097, saving model to vanilla_final.hdf5\n",
      "400/400 [==============================] - 186s 465ms/step - loss: 0.0287 - accuracy: 0.6266 - mean_iou: 0.3012 - mean_iou_neg: 0.4925 - mean_iou_weighted: 0.4543 - dice: 0.3918 - dice_neg: 0.5914 - dice_weighted: 0.5515 - val_loss: 0.0113 - val_accuracy: 0.6956 - val_mean_iou: 0.5052 - val_mean_iou_neg: 0.6374 - val_mean_iou_weighted: 0.6110 - val_dice: 0.6290 - val_dice_neg: 0.7456 - val_dice_weighted: 0.7223\n",
      "Epoch 2/15\n",
      "400/400 [==============================] - ETA: 0s - loss: 0.0115 - accuracy: 0.7029 - mean_iou: 0.5626 - mean_iou_neg: 0.6752 - mean_iou_weighted: 0.6526 - dice: 0.6861 - dice_neg: 0.7780 - dice_weighted: 0.7595\n",
      "Epoch 00002: val_mean_iou_weighted improved from 0.61097 to 0.62698, saving model to vanilla_final.hdf5\n",
      "400/400 [==============================] - 196s 489ms/step - loss: 0.0115 - accuracy: 0.7029 - mean_iou: 0.5626 - mean_iou_neg: 0.6752 - mean_iou_weighted: 0.6526 - dice: 0.6861 - dice_neg: 0.7780 - dice_weighted: 0.7595 - val_loss: 0.0128 - val_accuracy: 0.7057 - val_mean_iou: 0.5107 - val_mean_iou_neg: 0.6561 - val_mean_iou_weighted: 0.6270 - val_dice: 0.6220 - val_dice_neg: 0.7527 - val_dice_weighted: 0.7266\n",
      "Epoch 3/15\n",
      "400/400 [==============================] - ETA: 0s - loss: 0.0090 - accuracy: 0.7220 - mean_iou: 0.6245 - mean_iou_neg: 0.7209 - mean_iou_weighted: 0.7016 - dice: 0.7394 - dice_neg: 0.8150 - dice_weighted: 0.7999\n",
      "Epoch 00003: val_mean_iou_weighted improved from 0.62698 to 0.62889, saving model to vanilla_final.hdf5\n",
      "400/400 [==============================] - 253s 632ms/step - loss: 0.0090 - accuracy: 0.7220 - mean_iou: 0.6245 - mean_iou_neg: 0.7209 - mean_iou_weighted: 0.7016 - dice: 0.7394 - dice_neg: 0.8150 - dice_weighted: 0.7999 - val_loss: 0.0133 - val_accuracy: 0.7096 - val_mean_iou: 0.5262 - val_mean_iou_neg: 0.6546 - val_mean_iou_weighted: 0.6289 - val_dice: 0.6422 - val_dice_neg: 0.7563 - val_dice_weighted: 0.7335\n",
      "Epoch 4/15\n",
      "400/400 [==============================] - ETA: 0s - loss: 0.0080 - accuracy: 0.7255 - mean_iou: 0.6450 - mean_iou_neg: 0.7351 - mean_iou_weighted: 0.7171 - dice: 0.7585 - dice_neg: 0.8275 - dice_weighted: 0.8137\n",
      "Epoch 00004: val_mean_iou_weighted did not improve from 0.62889\n",
      "400/400 [==============================] - 239s 598ms/step - loss: 0.0080 - accuracy: 0.7255 - mean_iou: 0.6450 - mean_iou_neg: 0.7351 - mean_iou_weighted: 0.7171 - dice: 0.7585 - dice_neg: 0.8275 - dice_weighted: 0.8137 - val_loss: 0.0133 - val_accuracy: 0.6998 - val_mean_iou: 0.5102 - val_mean_iou_neg: 0.6424 - val_mean_iou_weighted: 0.6160 - val_dice: 0.6263 - val_dice_neg: 0.7451 - val_dice_weighted: 0.7214\n",
      "Epoch 5/15\n",
      "400/400 [==============================] - ETA: 0s - loss: 0.0065 - accuracy: 0.7373 - mean_iou: 0.6842 - mean_iou_neg: 0.7622 - mean_iou_weighted: 0.7466 - dice: 0.7914 - dice_neg: 0.8487 - dice_weighted: 0.8373\n",
      "Epoch 00005: val_mean_iou_weighted did not improve from 0.62889\n",
      "400/400 [==============================] - 191s 478ms/step - loss: 0.0065 - accuracy: 0.7373 - mean_iou: 0.6842 - mean_iou_neg: 0.7622 - mean_iou_weighted: 0.7466 - dice: 0.7914 - dice_neg: 0.8487 - dice_weighted: 0.8373 - val_loss: 0.0142 - val_accuracy: 0.6826 - val_mean_iou: 0.5156 - val_mean_iou_neg: 0.6454 - val_mean_iou_weighted: 0.6195 - val_dice: 0.6338 - val_dice_neg: 0.7487 - val_dice_weighted: 0.7257\n",
      "Epoch 6/15\n",
      "400/400 [==============================] - ETA: 0s - loss: 0.0056 - accuracy: 0.7400 - mean_iou: 0.7156 - mean_iou_neg: 0.7844 - mean_iou_weighted: 0.7706 - dice: 0.8191 - dice_neg: 0.8668 - dice_weighted: 0.8573\n",
      "Epoch 00006: val_mean_iou_weighted did not improve from 0.62889\n",
      "400/400 [==============================] - 207s 517ms/step - loss: 0.0056 - accuracy: 0.7400 - mean_iou: 0.7156 - mean_iou_neg: 0.7844 - mean_iou_weighted: 0.7706 - dice: 0.8191 - dice_neg: 0.8668 - dice_weighted: 0.8573 - val_loss: 0.0175 - val_accuracy: 0.6897 - val_mean_iou: 0.5146 - val_mean_iou_neg: 0.6427 - val_mean_iou_weighted: 0.6170 - val_dice: 0.6339 - val_dice_neg: 0.7478 - val_dice_weighted: 0.7250\n",
      "Epoch 7/15\n",
      "400/400 [==============================] - ETA: 0s - loss: 0.0111 - accuracy: 0.7173 - mean_iou: 0.5888 - mean_iou_neg: 0.6982 - mean_iou_weighted: 0.6763 - dice: 0.6967 - dice_neg: 0.7901 - dice_weighted: 0.7714\n",
      "Epoch 00007: val_mean_iou_weighted improved from 0.62889 to 0.64240, saving model to vanilla_final.hdf5\n",
      "400/400 [==============================] - 246s 616ms/step - loss: 0.0111 - accuracy: 0.7173 - mean_iou: 0.5888 - mean_iou_neg: 0.6982 - mean_iou_weighted: 0.6763 - dice: 0.6967 - dice_neg: 0.7901 - dice_weighted: 0.7714 - val_loss: 0.0121 - val_accuracy: 0.6802 - val_mean_iou: 0.5415 - val_mean_iou_neg: 0.6676 - val_mean_iou_weighted: 0.6424 - val_dice: 0.6646 - val_dice_neg: 0.7718 - val_dice_weighted: 0.7504\n",
      "Epoch 8/15\n",
      "400/400 [==============================] - ETA: 0s - loss: 0.0053 - accuracy: 0.7509 - mean_iou: 0.7299 - mean_iou_neg: 0.7939 - mean_iou_weighted: 0.7810 - dice: 0.8295 - dice_neg: 0.8734 - dice_weighted: 0.8645\n",
      "Epoch 00008: val_mean_iou_weighted did not improve from 0.64240\n",
      "400/400 [==============================] - 226s 566ms/step - loss: 0.0053 - accuracy: 0.7509 - mean_iou: 0.7299 - mean_iou_neg: 0.7939 - mean_iou_weighted: 0.7810 - dice: 0.8295 - dice_neg: 0.8734 - dice_weighted: 0.8645 - val_loss: 0.0184 - val_accuracy: 0.6964 - val_mean_iou: 0.4983 - val_mean_iou_neg: 0.6398 - val_mean_iou_weighted: 0.6115 - val_dice: 0.6126 - val_dice_neg: 0.7414 - val_dice_weighted: 0.7156\n",
      "Epoch 9/15\n",
      "400/400 [==============================] - ETA: 0s - loss: 0.0043 - accuracy: 0.7484 - mean_iou: 0.7522 - mean_iou_neg: 0.8113 - mean_iou_weighted: 0.7995 - dice: 0.8476 - dice_neg: 0.8869 - dice_weighted: 0.8790\n",
      "Epoch 00009: val_mean_iou_weighted did not improve from 0.64240\n",
      "400/400 [==============================] - 179s 447ms/step - loss: 0.0043 - accuracy: 0.7484 - mean_iou: 0.7522 - mean_iou_neg: 0.8113 - mean_iou_weighted: 0.7995 - dice: 0.8476 - dice_neg: 0.8869 - dice_weighted: 0.8790 - val_loss: 0.0194 - val_accuracy: 0.6678 - val_mean_iou: 0.4801 - val_mean_iou_neg: 0.6135 - val_mean_iou_weighted: 0.5868 - val_dice: 0.6053 - val_dice_neg: 0.7244 - val_dice_weighted: 0.7006\n",
      "Epoch 10/15\n",
      "400/400 [==============================] - ETA: 0s - loss: 0.0268 - accuracy: 0.7000 - mean_iou: 0.5469 - mean_iou_neg: 0.6713 - mean_iou_weighted: 0.6463 - dice: 0.6462 - dice_neg: 0.7594 - dice_weighted: 0.7367\n",
      "Epoch 00010: val_mean_iou_weighted did not improve from 0.64240\n",
      "400/400 [==============================] - 177s 443ms/step - loss: 0.0268 - accuracy: 0.7000 - mean_iou: 0.5469 - mean_iou_neg: 0.6713 - mean_iou_weighted: 0.6463 - dice: 0.6462 - dice_neg: 0.7594 - dice_weighted: 0.7367 - val_loss: 0.0125 - val_accuracy: 0.6746 - val_mean_iou: 0.5336 - val_mean_iou_neg: 0.6519 - val_mean_iou_weighted: 0.6282 - val_dice: 0.6601 - val_dice_neg: 0.7605 - val_dice_weighted: 0.7404\n",
      "Epoch 11/15\n",
      "400/400 [==============================] - ETA: 0s - loss: 0.0096 - accuracy: 0.7154 - mean_iou: 0.6025 - mean_iou_neg: 0.7084 - mean_iou_weighted: 0.6872 - dice: 0.7191 - dice_neg: 0.8042 - dice_weighted: 0.7872\n",
      "Epoch 00011: val_mean_iou_weighted did not improve from 0.64240\n",
      "400/400 [==============================] - 176s 441ms/step - loss: 0.0096 - accuracy: 0.7154 - mean_iou: 0.6025 - mean_iou_neg: 0.7084 - mean_iou_weighted: 0.6872 - dice: 0.7191 - dice_neg: 0.8042 - dice_weighted: 0.7872 - val_loss: 0.0126 - val_accuracy: 0.6827 - val_mean_iou: 0.5451 - val_mean_iou_neg: 0.6630 - val_mean_iou_weighted: 0.6395 - val_dice: 0.6674 - val_dice_neg: 0.7682 - val_dice_weighted: 0.7481\n"
     ]
    },
    {
     "name": "stdout",
     "output_type": "stream",
     "text": [
      "Epoch 12/15\n",
      "400/400 [==============================] - ETA: 0s - loss: 0.0069 - accuracy: 0.7368 - mean_iou: 0.6728 - mean_iou_neg: 0.7571 - mean_iou_weighted: 0.7402 - dice: 0.7793 - dice_neg: 0.8435 - dice_weighted: 0.8307\n",
      "Epoch 00012: val_mean_iou_weighted did not improve from 0.64240\n",
      "400/400 [==============================] - 178s 446ms/step - loss: 0.0069 - accuracy: 0.7368 - mean_iou: 0.6728 - mean_iou_neg: 0.7571 - mean_iou_weighted: 0.7402 - dice: 0.7793 - dice_neg: 0.8435 - dice_weighted: 0.8307 - val_loss: 0.0139 - val_accuracy: 0.6593 - val_mean_iou: 0.5127 - val_mean_iou_neg: 0.6269 - val_mean_iou_weighted: 0.6041 - val_dice: 0.6425 - val_dice_neg: 0.7417 - val_dice_weighted: 0.7218\n",
      "Epoch 13/15\n",
      "400/400 [==============================] - ETA: 0s - loss: 0.0058 - accuracy: 0.7407 - mean_iou: 0.7048 - mean_iou_neg: 0.7783 - mean_iou_weighted: 0.7636 - dice: 0.8071 - dice_neg: 0.8604 - dice_weighted: 0.8497\n",
      "Epoch 00013: val_mean_iou_weighted did not improve from 0.64240\n",
      "400/400 [==============================] - 178s 445ms/step - loss: 0.0058 - accuracy: 0.7407 - mean_iou: 0.7048 - mean_iou_neg: 0.7783 - mean_iou_weighted: 0.7636 - dice: 0.8071 - dice_neg: 0.8604 - dice_weighted: 0.8497 - val_loss: 0.0144 - val_accuracy: 0.6799 - val_mean_iou: 0.4970 - val_mean_iou_neg: 0.6336 - val_mean_iou_weighted: 0.6063 - val_dice: 0.6187 - val_dice_neg: 0.7399 - val_dice_weighted: 0.7156\n",
      "Epoch 14/15\n",
      "400/400 [==============================] - ETA: 0s - loss: 0.0046 - accuracy: 0.7515 - mean_iou: 0.7402 - mean_iou_neg: 0.8038 - mean_iou_weighted: 0.7911 - dice: 0.8357 - dice_neg: 0.8798 - dice_weighted: 0.8710\n",
      "Epoch 00014: val_mean_iou_weighted did not improve from 0.64240\n",
      "400/400 [==============================] - 177s 443ms/step - loss: 0.0046 - accuracy: 0.7515 - mean_iou: 0.7402 - mean_iou_neg: 0.8038 - mean_iou_weighted: 0.7911 - dice: 0.8357 - dice_neg: 0.8798 - dice_weighted: 0.8710 - val_loss: 0.0169 - val_accuracy: 0.7035 - val_mean_iou: 0.5174 - val_mean_iou_neg: 0.6596 - val_mean_iou_weighted: 0.6312 - val_dice: 0.6403 - val_dice_neg: 0.7621 - val_dice_weighted: 0.7378\n",
      "Epoch 15/15\n",
      "400/400 [==============================] - ETA: 0s - loss: 0.0041 - accuracy: 0.7542 - mean_iou: 0.7534 - mean_iou_neg: 0.8144 - mean_iou_weighted: 0.8021 - dice: 0.8467 - dice_neg: 0.8879 - dice_weighted: 0.8795\n",
      "Epoch 00015: val_mean_iou_weighted did not improve from 0.64240\n",
      "400/400 [==============================] - 178s 444ms/step - loss: 0.0041 - accuracy: 0.7542 - mean_iou: 0.7534 - mean_iou_neg: 0.8144 - mean_iou_weighted: 0.8021 - dice: 0.8467 - dice_neg: 0.8879 - dice_weighted: 0.8795 - val_loss: 0.0190 - val_accuracy: 0.6878 - val_mean_iou: 0.5076 - val_mean_iou_neg: 0.6434 - val_mean_iou_weighted: 0.6162 - val_dice: 0.6309 - val_dice_neg: 0.7484 - val_dice_weighted: 0.7249\n"
     ]
    }
   ],
   "source": [
    "model = VanillaUnet()\n",
    "model.compile(optimizer = Adam(lr = 1e-4), loss = [binary_focal_loss()], metrics = ['accuracy', mean_iou, mean_iou_neg, mean_iou_weighted, dice, dice_neg, dice_weighted])\n",
    "model_checkpoint = ModelCheckpoint('vanilla_final.hdf5', monitor='val_mean_iou_weighted',verbose=1, save_best_only=True, mode = 'max')\n",
    "history=model.fit_generator(train_generator,steps_per_epoch=400,epochs=15,validation_data=val_generator,validation_steps=50, callbacks=[model_checkpoint])"
   ]
  },
  {
   "cell_type": "code",
   "execution_count": 6,
   "metadata": {},
   "outputs": [],
   "source": [
    "save_obj(history.history,'vanilla_history')"
   ]
  },
  {
   "cell_type": "markdown",
   "metadata": {},
   "source": [
    "Test model"
   ]
  },
  {
   "cell_type": "code",
   "execution_count": 4,
   "metadata": {},
   "outputs": [],
   "source": [
    "test_img, names = test('dataset/test_images')\n",
    "# print(test_img.shape)\n",
    "\n",
    "folder = './dataset/test_labels'\n",
    "num_img, size = test_img.shape[0], test_img.shape[1]            \n",
    "\n",
    "test_label = generate_labels(folder, names, num_img, size)\n",
    "# print(test_label.shape)"
   ]
  },
  {
   "cell_type": "code",
   "execution_count": 8,
   "metadata": {},
   "outputs": [
    {
     "name": "stdout",
     "output_type": "stream",
     "text": [
      "1/1 [==============================] - 0s 1ms/step - loss: 0.0581 - accuracy: 0.8604 - mean_iou: 0.2538 - mean_iou_neg: 0.5472 - mean_iou_weighted: 0.4885 - dice: 0.3558 - dice_neg: 0.6336 - dice_weighted: 0.5781\n",
      "Test score: 0.058149587363004684\n"
     ]
    }
   ],
   "source": [
    "model_load = load_model('vanilla_final.hdf5', compile = False, custom_objects={'binary_focal_loss_fixed':binary_focal_loss()})\n",
    "model_load.compile(optimizer = Adam(lr = 1e-4), loss = [binary_focal_loss()], metrics = ['accuracy', mean_iou, mean_iou_neg, mean_iou_weighted, dice, dice_neg, dice_weighted])\n",
    "\n",
    "score, accuracy,  iou, iou_neg, iou_weighted, dice_coeff, dice_coeff_neg, dice_coeff_weighted= model.evaluate(test_img, test_label)\n",
    "print('Test score:', score)"
   ]
  },
  {
   "cell_type": "code",
   "execution_count": 6,
   "metadata": {},
   "outputs": [
    {
     "name": "stdout",
     "output_type": "stream",
     "text": [
      "Found 4 images belonging to 1 classes.\n",
      "Found 4 images belonging to 1 classes.\n",
      "20/20 [==============================] - 2s 89ms/step - loss: 0.0574 - accuracy: 0.8619 - mean_iou: 0.1938 - mean_iou_neg: 0.5213 - mean_iou_weighted: 0.4558 - dice: 0.2804 - dice_neg: 0.5986 - dice_weighted: 0.5350\n"
     ]
    }
   ],
   "source": [
    "data_gen_args = dict(rotation_range=30,\n",
    "                    horizontal_flip=True,\n",
    "                    vertical_flip=True)\n",
    "\n",
    "\n",
    "test_gen = trainGenerator_simple(4,'dataset','test_images','test_labels', aug_dict = data_gen_args, image_color_mode = \"rgb\",\n",
    "                    mask_color_mode = \"grayscale\",image_save_prefix  = \"image\",mask_save_prefix  = \"mask\",\n",
    "                    flag_multi_class = False,num_class = 1,save_to_dir = None,\n",
    "                   target_size = (256,256),seed = 1)\n",
    "\n",
    "model = load_model('vanilla_final.hdf5',  compile = False, custom_objects={'binary_focal_loss_fixed':binary_focal_loss()})\n",
    "model.compile(optimizer = Adam(lr = 1e-4), loss = [binary_focal_loss()], metrics = ['accuracy', mean_iou, mean_iou_neg, mean_iou_weighted, dice, dice_neg, dice_weighted])\n",
    "\n",
    "score, accuracy,  iou, iou_neg, iou_weighted, dice_coeff, dice_coeff_neg, dice_coeff_weighted= model.evaluate(test_gen,steps=20)"
   ]
  }
 ],
 "metadata": {
  "kernelspec": {
   "display_name": "Python 3",
   "language": "python",
   "name": "python3"
  },
  "language_info": {
   "codemirror_mode": {
    "name": "ipython",
    "version": 3
   },
   "file_extension": ".py",
   "mimetype": "text/x-python",
   "name": "python",
   "nbconvert_exporter": "python",
   "pygments_lexer": "ipython3",
   "version": "3.7.6"
  },
  "metadata": {
   "deletable": true,
   "editable": true,
   "trusted": true
  }
 },
 "nbformat": 4,
 "nbformat_minor": 2
}
